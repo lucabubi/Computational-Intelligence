{
 "cells": [
  {
   "cell_type": "markdown",
   "metadata": {},
   "source": [
    "Copyright **`(c)`** 2023 Giovanni Squillero `<giovanni.squillero@polito.it>`  \n",
    "[`https://github.com/squillero/computational-intelligence`](https://github.com/squillero/computational-intelligence)  \n",
    "Free for personal or classroom use; see [`LICENSE.md`](https://github.com/squillero/computational-intelligence/blob/master/LICENSE.md) for details."
   ]
  },
  {
   "cell_type": "markdown",
   "metadata": {},
   "source": [
    "# LAB 4\n",
    "\n",
    "Use reinforcement learning to devise a tic-tac-toe player."
   ]
  },
  {
   "cell_type": "markdown",
   "metadata": {},
   "source": [
    "Note: X player always moves first."
   ]
  },
  {
   "cell_type": "code",
   "execution_count": 3684,
   "metadata": {},
   "outputs": [],
   "source": [
    "# Imports\n",
    "from itertools import combinations\n",
    "from collections import namedtuple, defaultdict\n",
    "from random import choice\n",
    "from copy import deepcopy\n",
    "from tqdm.auto import tqdm"
   ]
  },
  {
   "cell_type": "code",
   "execution_count": 3685,
   "metadata": {},
   "outputs": [],
   "source": [
    "# State definition\n",
    "State = namedtuple(\"State\", [\"x\", \"o\"])"
   ]
  },
  {
   "cell_type": "code",
   "execution_count": 3686,
   "metadata": {},
   "outputs": [],
   "source": [
    "# Creation of 2 dictionaries for storing X AI and O AI players training\n",
    "# Accessible by value_dictionary[\"x\"] and value_dictionary[\"o\"]\n",
    "value_dictionary = {\"x\": defaultdict(float), \"o\": defaultdict(float)}"
   ]
  },
  {
   "cell_type": "code",
   "execution_count": 3687,
   "metadata": {},
   "outputs": [],
   "source": [
    "# Counters\n",
    "counters = {\"Wins\": 0, \"Loses\": 0, \"Draws\": 0}\n",
    "\n",
    "# Reset Counters\n",
    "def reset_counters():\n",
    "    global counters\n",
    "    counters = {\"Wins\": 0, \"Loses\": 0, \"Draws\": 0}\n",
    "\n",
    "# Update Counters\n",
    "def update_counter(type):\n",
    "    global counters\n",
    "    counters[type] += 1\n",
    "\n",
    "# Print Counters\n",
    "def print_counters():\n",
    "    global counters\n",
    "    total = sum(counters.values())\n",
    "    print(f'Wins: {counters[\"Wins\"]} ({counters[\"Wins\"]/total*100:.2f}%), Loses: {counters[\"Loses\"]} ({counters[\"Loses\"]/total*100:.2f}%), Draws: {counters[\"Draws\"]} ({counters[\"Draws\"]/total*100:.2f}%)')\n",
    "\n",
    "# Print Counters for game between AI\n",
    "def print_counters_between():\n",
    "    global counters\n",
    "    total = sum(counters.values())\n",
    "    print(f'AI usign X Wins: {counters[\"Loses\"]} ({counters[\"Loses\"]/total*100:.2f}%), AI usign O Wins: {counters[\"Wins\"]} ({counters[\"Wins\"]/total*100:.2f}%), Draws: {counters[\"Draws\"]} ({counters[\"Draws\"]/total*100:.2f}%)')"
   ]
  },
  {
   "cell_type": "code",
   "execution_count": 3688,
   "metadata": {},
   "outputs": [],
   "source": [
    "# Board definition\n",
    "MAGIC = [2, 7, 6,\n",
    "         9, 5, 1,\n",
    "         4, 3, 8]"
   ]
  },
  {
   "cell_type": "code",
   "execution_count": 3689,
   "metadata": {},
   "outputs": [],
   "source": [
    "# Print the board\n",
    "def print_board(pos):\n",
    "    for row in range(3):\n",
    "        for column in range(3):\n",
    "            i = row * 3 + column\n",
    "            if MAGIC[i] in pos.x:\n",
    "                print(\"X \", end=\"\")\n",
    "            elif MAGIC[i] in pos.o:\n",
    "                print(\"O \", end=\"\")\n",
    "            else:\n",
    "                print(\". \", end=\"\")\n",
    "        print()\n",
    "    print()"
   ]
  },
  {
   "cell_type": "code",
   "execution_count": 3690,
   "metadata": {},
   "outputs": [],
   "source": [
    "# Check if elements is winning\n",
    "def win(elements):\n",
    "    return any(sum(c) == 15 for c in combinations(elements, 3))"
   ]
  },
  {
   "cell_type": "code",
   "execution_count": 3691,
   "metadata": {},
   "outputs": [],
   "source": [
    "# Reward\n",
    "# If player is x -> win +1/lose -1/draw 0\n",
    "# If player is o -> win +3/lose -6/draw +2\n",
    "def state_value(pos: State, player):\n",
    "    if win(pos.x):\n",
    "        return 1 if player == \"x\" else -6\n",
    "    elif win(pos.o):\n",
    "        return -1 if player == \"x\" else 3\n",
    "    else:\n",
    "        return 0 if player == \"x\" else 2"
   ]
  },
  {
   "cell_type": "code",
   "execution_count": 3692,
   "metadata": {},
   "outputs": [],
   "source": [
    "# This function modularly implements the behavior of player (that could be \"x\" or \"o\")\n",
    "def make_move(state, available, player):\n",
    "    max_val = float(\"-inf\")\n",
    "    move = None\n",
    "    move_found = False\n",
    "\n",
    "    for move in available:\n",
    "        # getattr used to retrieve the attribute of an object dynamically.\n",
    "        # if player is x then state.x.union({move})\n",
    "        # if player is o then state.o.union({move})\n",
    "        next_state = getattr(state, player).union({move})\n",
    "        hashable_next_state = (\n",
    "            frozenset(next_state) if player == \"x\" else frozenset(state.x),\n",
    "            frozenset(state.o) if player == \"x\" else frozenset(next_state),\n",
    "        )\n",
    "\n",
    "        if hashable_next_state in value_dictionary[player]:\n",
    "            if value_dictionary[player][hashable_next_state] > max_val:\n",
    "                max_val = value_dictionary[player][hashable_next_state]\n",
    "                bestmove = move\n",
    "                move_found = True\n",
    "\n",
    "    # If this scenario has never been discovered then chose it randomly from the list of all the available moves\n",
    "    # (with so many games for training phase it is almost impossible)\n",
    "    if not move_found:\n",
    "        bestmove = choice(list(available))\n",
    "\n",
    "    return bestmove"
   ]
  },
  {
   "cell_type": "code",
   "execution_count": 3693,
   "metadata": {},
   "outputs": [],
   "source": [
    "# Game for training purposes\n",
    "# All moves are random\n",
    "def training_game():\n",
    "    trajectory = list()\n",
    "    state = State(set(), set())\n",
    "    available = set(range(1, 9 + 1))\n",
    "    while available:\n",
    "\n",
    "        # X turn\n",
    "        move = choice(list(available))\n",
    "        state.x.add(move)\n",
    "        trajectory.append(deepcopy(state))\n",
    "        available.remove(move)\n",
    "\n",
    "        # Check for win or draw after X moves\n",
    "        if win(state.x) or not available:\n",
    "            break\n",
    "\n",
    "        # O turn\n",
    "        move = choice(list(available))\n",
    "        state.o.add(move)\n",
    "        trajectory.append(deepcopy(state))\n",
    "        available.remove(move)\n",
    "\n",
    "        # Check for win after O moves\n",
    "        if win(state.o):\n",
    "            break\n",
    "\n",
    "    return trajectory"
   ]
  },
  {
   "cell_type": "code",
   "execution_count": 3694,
   "metadata": {},
   "outputs": [],
   "source": [
    "# Training\n",
    "def train(player):\n",
    "    epsilon = 0.003\n",
    "\n",
    "    for steps in tqdm(range(1_000_000)):\n",
    "        trajectory = training_game()\n",
    "        final_reward = state_value(trajectory[-1], player)\n",
    "        for state in trajectory:\n",
    "            hashable_state = (frozenset(state.x), frozenset(state.o))\n",
    "            value_dictionary[player][hashable_state] = value_dictionary[player][\n",
    "                hashable_state\n",
    "            ] + epsilon * (final_reward - value_dictionary[player][hashable_state])"
   ]
  },
  {
   "cell_type": "code",
   "execution_count": 3695,
   "metadata": {},
   "outputs": [],
   "source": [
    "# Define a game with AI usign \"player\" (x or o) vs random moves\n",
    "def game(player):\n",
    "    trajectory = list()\n",
    "    state = State(set(), set())\n",
    "    available = set(range(1, 9 + 1))\n",
    "    while available:\n",
    "        # X turn\n",
    "        move = make_move(state, available, player) if player == \"x\" else choice(list(available))\n",
    "        state.x.add(move)\n",
    "        trajectory.append(deepcopy(state))\n",
    "        available.remove(move)\n",
    "\n",
    "        # Check for win or draw after X moves\n",
    "        # If using O then it's a loss!\n",
    "        if win(state.x):\n",
    "            update_counter(\"Wins\") if player == \"x\" else update_counter(\"Loses\")\n",
    "            break\n",
    "        else:\n",
    "            if not available:\n",
    "                update_counter(\"Draws\")\n",
    "                break\n",
    "\n",
    "        # O turn\n",
    "        move = choice(list(available)) if player == \"x\" else make_move(state, available, player)\n",
    "        state.o.add(move)\n",
    "        trajectory.append(deepcopy(state))\n",
    "        available.remove(move)\n",
    "\n",
    "        # Check for win after O moves\n",
    "        # If using X then it's a loss!\n",
    "        if win(state.o):\n",
    "            update_counter(\"Loses\") if player == \"x\" else update_counter(\"Wins\")\n",
    "            break\n",
    "\n",
    "    return trajectory"
   ]
  },
  {
   "cell_type": "code",
   "execution_count": 3696,
   "metadata": {},
   "outputs": [],
   "source": [
    "# Define a game between AI\n",
    "# Only \"best moves\" are used\n",
    "def game_between_AI():\n",
    "    trajectory = list()\n",
    "    state = State(set(), set())\n",
    "    available = set(range(1, 9 + 1))\n",
    "    while available:\n",
    "        # X turn\n",
    "        move = make_move(state, available, \"x\")\n",
    "        state.x.add(move)\n",
    "        trajectory.append(deepcopy(state))\n",
    "        available.remove(move)\n",
    "\n",
    "        if win(state.x):\n",
    "            update_counter(\"Loses\")\n",
    "            break\n",
    "        else:\n",
    "            if not available:\n",
    "                update_counter(\"Draws\")\n",
    "                break\n",
    "\n",
    "        # O turn\n",
    "        move = make_move(state, available, \"o\")\n",
    "        state.o.add(move)\n",
    "        trajectory.append(deepcopy(state))\n",
    "        available.remove(move)\n",
    "\n",
    "        if win(state.o):\n",
    "            update_counter(\"Wins\")\n",
    "            break\n",
    "\n",
    "    return trajectory"
   ]
  },
  {
   "cell_type": "markdown",
   "metadata": {},
   "source": [
    "### AI using X against random moves"
   ]
  },
  {
   "cell_type": "code",
   "execution_count": 3697,
   "metadata": {},
   "outputs": [
    {
     "data": {
      "application/vnd.jupyter.widget-view+json": {
       "model_id": "7ec059b7718247c0a9517465483ea0b1",
       "version_major": 2,
       "version_minor": 0
      },
      "text/plain": [
       "  0%|          | 0/1000000 [00:00<?, ?it/s]"
      ]
     },
     "metadata": {},
     "output_type": "display_data"
    },
    {
     "data": {
      "application/vnd.jupyter.widget-view+json": {
       "model_id": "19983d83471c491fa6a9df395a757de4",
       "version_major": 2,
       "version_minor": 0
      },
      "text/plain": [
       "  0%|          | 0/10000 [00:00<?, ?it/s]"
      ]
     },
     "metadata": {},
     "output_type": "display_data"
    },
    {
     "name": "stdout",
     "output_type": "stream",
     "text": [
      "Wins: 9908 (99.08%), Loses: 0 (0.00%), Draws: 92 (0.92%)\n"
     ]
    }
   ],
   "source": [
    "# AI using X against random moves\n",
    "player = \"x\"\n",
    "train(player)\n",
    "for steps in tqdm(range(10_000)):\n",
    "    trajectory = game(player)\n",
    "print_counters()"
   ]
  },
  {
   "cell_type": "code",
   "execution_count": 3698,
   "metadata": {},
   "outputs": [],
   "source": [
    "reset_counters()"
   ]
  },
  {
   "cell_type": "markdown",
   "metadata": {},
   "source": [
    "### AI using O against random moves"
   ]
  },
  {
   "cell_type": "code",
   "execution_count": 3699,
   "metadata": {},
   "outputs": [
    {
     "data": {
      "application/vnd.jupyter.widget-view+json": {
       "model_id": "25cfba47efb24aec8a9e8870b2ea21fb",
       "version_major": 2,
       "version_minor": 0
      },
      "text/plain": [
       "  0%|          | 0/1000000 [00:00<?, ?it/s]"
      ]
     },
     "metadata": {},
     "output_type": "display_data"
    },
    {
     "data": {
      "application/vnd.jupyter.widget-view+json": {
       "model_id": "40380ee6ac33401ba4cb634b4759170b",
       "version_major": 2,
       "version_minor": 0
      },
      "text/plain": [
       "  0%|          | 0/10000 [00:00<?, ?it/s]"
      ]
     },
     "metadata": {},
     "output_type": "display_data"
    },
    {
     "name": "stdout",
     "output_type": "stream",
     "text": [
      "Wins: 8779 (87.79%), Loses: 42 (0.42%), Draws: 1179 (11.79%)\n"
     ]
    }
   ],
   "source": [
    "# AI using O against random moves\n",
    "player = \"o\"\n",
    "train(player)\n",
    "for steps in tqdm(range(10_000)):\n",
    "    trajectory = game(player)\n",
    "print_counters()"
   ]
  },
  {
   "cell_type": "code",
   "execution_count": 3700,
   "metadata": {},
   "outputs": [],
   "source": [
    "reset_counters()"
   ]
  },
  {
   "cell_type": "markdown",
   "metadata": {},
   "source": [
    "### Make AI plays against each other"
   ]
  },
  {
   "cell_type": "code",
   "execution_count": 3701,
   "metadata": {},
   "outputs": [
    {
     "data": {
      "application/vnd.jupyter.widget-view+json": {
       "model_id": "37cbc7a6f56a4a2bbaa1b3bd54680102",
       "version_major": 2,
       "version_minor": 0
      },
      "text/plain": [
       "  0%|          | 0/10000 [00:00<?, ?it/s]"
      ]
     },
     "metadata": {},
     "output_type": "display_data"
    },
    {
     "name": "stdout",
     "output_type": "stream",
     "text": [
      "AI usign X Wins: 0 (0.00%), AI usign O Wins: 0 (0.00%), Draws: 10000 (100.00%)\n"
     ]
    }
   ],
   "source": [
    "# AI playing against each others\n",
    "for steps in tqdm(range(10_000)):\n",
    "    trajectory = game_between_AI()\n",
    "print_counters_between()"
   ]
  },
  {
   "cell_type": "markdown",
   "metadata": {},
   "source": [
    "### And if you want to challenge the AI?"
   ]
  },
  {
   "cell_type": "code",
   "execution_count": 3702,
   "metadata": {},
   "outputs": [],
   "source": [
    "def get_move(player, available):\n",
    "    while True:\n",
    "        move = int(input(f\"{player.capitalize()} player, make your move (1-9): \"))\n",
    "        if move in available:\n",
    "            return move\n",
    "        else:\n",
    "            print(\"Invalid move. Please choose from available positions.\")"
   ]
  },
  {
   "cell_type": "code",
   "execution_count": 3703,
   "metadata": {},
   "outputs": [],
   "source": [
    "def interactive_game(player):\n",
    "    trajectory = []\n",
    "    state = State(set(), set())\n",
    "    available = set(range(1, 9 + 1))\n",
    "\n",
    "    while available:\n",
    "        # X turn\n",
    "        if player == \"x\":\n",
    "            move = get_move(player, available)\n",
    "        else:\n",
    "            move = make_move(state, available, \"x\")\n",
    "        state.x.add(move)\n",
    "        trajectory.append(deepcopy(state))\n",
    "        available.remove(move)\n",
    "\n",
    "        print_board(state)\n",
    "\n",
    "        # Check for win or draw after X moves\n",
    "        if win(state.x):\n",
    "            print(\"X player won!\")\n",
    "            break\n",
    "        else:\n",
    "            if not available:\n",
    "                print(\"It's a draw!\")\n",
    "                break\n",
    "\n",
    "        # O turn\n",
    "        if player == \"o\":\n",
    "            move = get_move(player, available)\n",
    "        else:\n",
    "            move = make_move(state, available, \"o\")\n",
    "        state.o.add(move)\n",
    "        trajectory.append(deepcopy(state))\n",
    "        available.remove(move)\n",
    "\n",
    "        print_board(state)\n",
    "        \n",
    "        # Check for win after O moves\n",
    "        if win(state.o):\n",
    "            print(\"O player won\")\n",
    "            break\n",
    "\n",
    "    return trajectory"
   ]
  },
  {
   "cell_type": "code",
   "execution_count": 3704,
   "metadata": {},
   "outputs": [],
   "source": [
    "def interactive_interface():\n",
    "    print(\"Do you want to play against AI? y/n\")\n",
    "    play = input().lower()\n",
    "\n",
    "    while play == \"y\":\n",
    "        print(\"Do you want to play using X or O? x/o\")\n",
    "        player = input().lower()\n",
    "\n",
    "        if player not in [\"x\", \"o\"]:\n",
    "            print(\"Invalid choice. Please choose x or o.\")\n",
    "            continue\n",
    "\n",
    "        print(\"******************************\")\n",
    "        print(\"GAME BEGIN\")\n",
    "        print(\"******************************\")\n",
    "        trajectory = interactive_game(player)\n",
    "\n",
    "        print(\"******************************\")\n",
    "        print(\"Do you want to play again? y/n\")\n",
    "        play = input().lower()\n",
    "\n",
    "    print(\"Goodbye!\")"
   ]
  },
  {
   "cell_type": "code",
   "execution_count": 3705,
   "metadata": {},
   "outputs": [
    {
     "name": "stdout",
     "output_type": "stream",
     "text": [
      "Do you want to play against AI? y/n\n",
      "Do you want to play using X or O? x/o\n",
      "******************************\n",
      "GAME BEGIN\n",
      "******************************\n",
      ". . . \n",
      ". X . \n",
      ". . . \n",
      "\n",
      ". . . \n",
      ". X . \n",
      "O . . \n",
      "\n",
      "X . . \n",
      ". X . \n",
      "O . . \n",
      "\n",
      "X . . \n",
      ". X . \n",
      "O . O \n",
      "\n",
      "X . . \n",
      ". X . \n",
      "O X O \n",
      "\n",
      "X O . \n",
      ". X . \n",
      "O X O \n",
      "\n",
      "X O . \n",
      ". X X \n",
      "O X O \n",
      "\n",
      "X O . \n",
      "O X X \n",
      "O X O \n",
      "\n",
      "X O X \n",
      "O X X \n",
      "O X O \n",
      "\n",
      "It's a draw!\n",
      "******************************\n",
      "Do you want to play again? y/n\n",
      "Goodbye!\n"
     ]
    }
   ],
   "source": [
    "interactive_interface()"
   ]
  }
 ],
 "metadata": {
  "kernelspec": {
   "display_name": "computational-j6Ykh1YP-py3.10",
   "language": "python",
   "name": "python3"
  },
  "language_info": {
   "codemirror_mode": {
    "name": "ipython",
    "version": 3
   },
   "file_extension": ".py",
   "mimetype": "text/x-python",
   "name": "python",
   "nbconvert_exporter": "python",
   "pygments_lexer": "ipython3",
   "version": "3.10.12"
  }
 },
 "nbformat": 4,
 "nbformat_minor": 2
}
